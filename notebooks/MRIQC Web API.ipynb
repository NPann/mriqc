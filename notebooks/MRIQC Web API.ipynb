{
 "cells": [
  {
   "cell_type": "markdown",
   "metadata": {},
   "source": [
    "# Querying the MRIQC Web API\n",
    "\n",
    "This notebook shows how the web-API can be leveraged to analyze the image quality metrics (IQMs) that have been extracted with MRIQC\n",
    "\n",
    "This notebook is a derivative work of https://gist.github.com/chrisfilo/eccdb8b98f8e74d24a3395a49fbadf03"
   ]
  },
  {
   "cell_type": "code",
   "execution_count": 8,
   "metadata": {
    "collapsed": true
   },
   "outputs": [],
   "source": [
    "import os\n",
    "import sys\n",
    "import pandas as pd\n",
    "from json import load\n",
    "import urllib.request, json \n",
    "from pandas.io.json import json_normalize\n",
    "import seaborn as sns\n",
    "import pylab as plt\n",
    "import multiprocessing as mp\n",
    "import numpy as np\n",
    "from dateutil import parser\n",
    "\n",
    "%matplotlib inline"
   ]
  },
  {
   "cell_type": "markdown",
   "metadata": {},
   "source": [
    "## Preparation\n",
    "\n",
    "Let's define a function that will query the appropriate endpoint and a helper function to plot some distributions (at the bottom of this notebook)."
   ]
  },
  {
   "cell_type": "code",
   "execution_count": 9,
   "metadata": {
    "collapsed": true
   },
   "outputs": [],
   "source": [
    "def get_iqms(modality, versions=None, software='mriqc', out_file=None):\n",
    "    \"\"\"\n",
    "    Grab all iqms for the given modality and the list of versions\n",
    "    \"\"\"\n",
    "    url_root = 'https://mriqc.nimh.nih.gov/api/v1/{modality}?{query}'\n",
    "    page = 1\n",
    "    \n",
    "    if out_file is None:\n",
    "        out_file = 'webapi-%s.csv' % modality\n",
    "    \n",
    "    database = pd.DataFrame()\n",
    "    if os.path.isfile(out_file):\n",
    "        database = pd.read_csv(out_file)\n",
    "        page = len(database) // 25 + 1\n",
    "        print('Found old records. Starting on page ', page)\n",
    "\n",
    "    if versions is None:\n",
    "        versions = ['*']\n",
    "\n",
    "    for version in versions:\n",
    "        while True:\n",
    "            query = []\n",
    "            \n",
    "            if software is not None:\n",
    "                query.append('\"provenance.software\":\"%s\"' % software)\n",
    "            \n",
    "            if version != '*':\n",
    "                query.append('\"provenance.version\":\"%s\"' % version)\n",
    "                \n",
    "            page_url = url_root.format(\n",
    "                modality=modality,\n",
    "                query='where={%s}&limit=25&page=%d' % (','.join(query), page)\n",
    "            )\n",
    "            with urllib.request.urlopen(page_url) as url:\n",
    "                data = json.loads(url.read().decode())\n",
    "                database = database.append(\n",
    "                    json_normalize(data['_items']), sort=False)\n",
    "                \n",
    "                database.to_csv(out_file)\n",
    "                sys.stdout.write('.')\n",
    "                sys.stdout.flush()\n",
    "                if 'next' not in data['_links'].keys():\n",
    "                    break\n",
    "                else:\n",
    "                    page += 1\n",
    "\n",
    "    database.to_csv(out_file)\n",
    "    return database\n",
    "\n",
    "\n",
    "def plot_measure(data, xlabel=None, label=None, ax=None, min=None, max=None):\n",
    "    \"\"\"\n",
    "    Distribution plot of a given measure\n",
    "    \"\"\"\n",
    "    sns.distplot(data, ax=ax, label=label)\n",
    "    \n",
    "    if xlabel is not None:\n",
    "        ax.set_xlabel(xlabel)\n",
    "    \n",
    "    if min is None:\n",
    "        min = np.percentile(data, 0.5)\n",
    "    \n",
    "    if max is None:\n",
    "        max = np.percentile(data, 99.5)\n",
    "    ax.set_xlim((min, max))"
   ]
  },
  {
   "cell_type": "markdown",
   "metadata": {},
   "source": [
    "## Fetch IQMs\n",
    "\n",
    "Let's fetch IQMs for the two principal modalities of MRIQC, T1-weighted images and BOLD-fMRI. Filter out repeated images to obtain unique records."
   ]
  },
  {
   "cell_type": "code",
   "execution_count": 10,
   "metadata": {},
   "outputs": [
    {
     "name": "stdout",
     "output_type": "stream",
     "text": [
      "Found old records. Starting on page  308\n",
      "............................................................................................................................................................................................................................................................................................................................................................................................................................................................................................................................................................................................................................................................................................................................................................................................................................................................................................................................................................................................................................................................................................................................................................................................................................................................................................................................................................................................................................................................................................................................................................................................................................................................................................................................................................................................................................................................................................................................................................................................................................................................................................................................................................................................................................................................................................................................................................................................................................................................................................................................................................................................................................................................................................................................................................................................."
     ]
    }
   ],
   "source": [
    "# BOLD\n",
    "df_bold = get_iqms('bold', out_file='20180524-bold.csv')\n",
    "df_bold_unique = df_bold.drop_duplicates(subset=['provenance.md5sum'])"
   ]
  },
  {
   "cell_type": "code",
   "execution_count": null,
   "metadata": {},
   "outputs": [
    {
     "name": "stdout",
     "output_type": "stream",
     "text": [
      "........................................................................................................................................................................................................................................................................................................................................................................................................................................................................................................................................................................................................................................................................................................................................................................................................................................................................................................................................................................................................................................................................................................................................................................................................................................................................................................................................................................................................................................................................................................................................................................................................................................................................................................................................................................................................................................................................................................................................................................................................................................................................................................................."
     ]
    }
   ],
   "source": [
    "# T1\n",
    "df_t1w = get_iqms('T1w', software=None, out_file='20180524-T1.csv')\n",
    "df_t1w_unique = df_t1w.drop_duplicates(subset=['provenance.md5sum'])"
   ]
  },
  {
   "cell_type": "code",
   "execution_count": null,
   "metadata": {},
   "outputs": [],
   "source": []
  },
  {
   "cell_type": "markdown",
   "metadata": {},
   "source": [
    "## Evolution of IQMs submission\n",
    "\n",
    "This code generates Figure 3A of the abstract"
   ]
  },
  {
   "cell_type": "code",
   "execution_count": null,
   "metadata": {
    "collapsed": true
   },
   "outputs": [],
   "source": [
    "import datetime\n",
    "from dateutil import parser\n",
    "import matplotlib.dates as mdates\n",
    "\n",
    "dates_t1w = [parser.parse(d) for d in df_t1w['_created'].values]\n",
    "dates_t1w.sort()\n",
    "\n",
    "dates_t1w_u = [parser.parse(d) for d in df_t1w_unique['_created'].values]\n",
    "dates_t1w_u.sort()\n",
    "# mindate = dates_t1w[0]\n",
    "ax = plt.subplot(111)\n",
    "ax.plot(dates_t1w, list(range(1, len(dates_t1w) + 1)), label='total')\n",
    "ax.plot(dates_t1w_u, list(range(1, len(dates_t1w_u) + 1)), label='unique')\n",
    "ax.set_title('Number of T1w records in database')\n",
    "ax.legend()\n",
    "\n",
    "plt.savefig(\"fig03a-0.svg\", bbox_inches='tight', transparent=False, pad_inches=0)"
   ]
  },
  {
   "cell_type": "code",
   "execution_count": null,
   "metadata": {},
   "outputs": [],
   "source": [
    "dates_bold = [parser.parse(d) for d in df_bold['_created'].values]\n",
    "dates_bold.sort()\n",
    "dates_bold_u = [parser.parse(d) for d in df_bold_unique['_created'].values]\n",
    "dates_bold_u.sort()\n",
    "# mindate = dates_t1w[0]\n",
    "ax = plt.subplot(111)\n",
    "ax.plot(dates_bold, list(range(1, len(dates_bold) + 1)), label='total')\n",
    "ax.plot(dates_bold_u, list(range(1, len(dates_bold_u) + 1)), label='unique')\n",
    "ax.set_title('Number of BOLD records in database')\n",
    "ax.legend()\n",
    "plt.savefig(\"fig03a-1.svg\", bbox_inches='tight', transparent=False, pad_inches=0)"
   ]
  },
  {
   "cell_type": "markdown",
   "metadata": {},
   "source": [
    "## Playing with T1w IQMs\n",
    "\n",
    "Let's plot some of the IQMs for the T1w modality. First, let's check the names of the IQMs. These measures are explained in the documentation (http://mriqc.readthedocs.io/en/stable/iqms/t1w.html)"
   ]
  },
  {
   "cell_type": "code",
   "execution_count": null,
   "metadata": {
    "collapsed": true
   },
   "outputs": [],
   "source": [
    "print(','.join([l for l in df_t1w.columns \n",
    "                if not l.startswith('_') and not l.startswith('bids_meta') and not l.startswith('provenance')]))"
   ]
  },
  {
   "cell_type": "code",
   "execution_count": null,
   "metadata": {
    "collapsed": true
   },
   "outputs": [],
   "source": [
    "f, ax = plt.subplots(1, 5, figsize=(25,5))\n",
    "plot_measure(df_t1w_unique.cjv, xlabel='Coefficient of joint variation (CJV)', ax=ax[0])\n",
    "plot_measure(df_t1w_unique.cnr, xlabel='Contrast-to-noise ratio (CNR)', ax=ax[1])\n",
    "plot_measure(df_t1w_unique.snr_wm, xlabel='Signal-to-noise ratio estimated on the white-matter (SNR)', ax=ax[2])\n",
    "plot_measure(df_t1w_unique.fwhm_avg, xlabel='Smoothness (FWHM)', ax=ax[3])\n",
    "plot_measure(df_t1w_unique.wm2max, xlabel='WM-to-max intensity ratio (WM2MAX)', ax=ax[4])\n",
    "plt.suptitle('Distributions of some IQMs extracted from T1-weighted MRI')\n",
    "plt.savefig(\"fig03b-0.svg\", bbox_inches='tight', transparent=False, pad_inches=0)"
   ]
  },
  {
   "cell_type": "markdown",
   "metadata": {},
   "source": [
    "## Playing with BOLD IQMs\n",
    "\n",
    "Let's plot some of the IQMs for the BOLD modality. First, let's check the names of the IQMs. These measures are explained in the documentation (http://mriqc.readthedocs.io/en/stable/iqms/bold.html)"
   ]
  },
  {
   "cell_type": "code",
   "execution_count": null,
   "metadata": {
    "collapsed": true
   },
   "outputs": [],
   "source": [
    "print(','.join([l for l in df_bold.columns \n",
    "                if not l.startswith('_') and not l.startswith('bids_meta') and not l.startswith('provenance')]))"
   ]
  },
  {
   "cell_type": "code",
   "execution_count": null,
   "metadata": {
    "collapsed": true
   },
   "outputs": [],
   "source": [
    "f, ax = plt.subplots(1, 5, figsize=(25,5))\n",
    "plot_measure(df_bold_unique[df_bold_unique.fd_mean < 10].fd_mean, xlabel='Framewise Displacement (mm)', max=2, ax=ax[0])\n",
    "plot_measure(df_bold_unique[df_bold_unique.dvars_nstd < 100].dvars_nstd, xlabel='DVARS', ax=ax[1])\n",
    "plot_measure(df_bold_unique.gcor, xlabel='Global correlation', ax=ax[2])\n",
    "plot_measure(df_bold_unique.gsr_x, label='x-axis', ax=ax[3])\n",
    "plot_measure(df_bold_unique.gsr_y, xlabel='Ghost-to-signal ratio (GSR)', label='y-axis', ax=ax[3])\n",
    "ax[3].legend()\n",
    "plot_measure(df_bold_unique.tsnr, xlabel='Temporal SNR (tSNR)', ax=ax[4])\n",
    "plt.suptitle('Distributions of some IQMs extracted from BOLD fMRI')\n",
    "plt.savefig(\"fig03b-1.png\", bbox_inches='tight', transparent=False, pad_inches=0, facecolor='white')"
   ]
  }
 ],
 "metadata": {
  "kernelspec": {
   "display_name": "Python 3",
   "language": "python",
   "name": "python3"
  },
  "language_info": {
   "codemirror_mode": {
    "name": "ipython",
    "version": 3
   },
   "file_extension": ".py",
   "mimetype": "text/x-python",
   "name": "python",
   "nbconvert_exporter": "python",
   "pygments_lexer": "ipython3",
   "version": "3.6.4"
  }
 },
 "nbformat": 4,
 "nbformat_minor": 2
}

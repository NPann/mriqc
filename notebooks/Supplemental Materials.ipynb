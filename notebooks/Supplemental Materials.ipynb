{
 "cells": [
  {
   "cell_type": "markdown",
   "metadata": {},
   "source": [
    "# Generation of supplemental materials for the MRIQC paper\n",
    "\n",
    "This notebook is associated to the paper:\n",
    "\n",
    "Esteban O, Birman D, Schaer M, Koyejo OO, Poldrack RA, Gorgolewski KJ; MRIQC: Predicting Quality in Manual MRI Assessment Protocols Using No-Reference Image Quality Measures; bioRxiv 111294; doi:[10.1101/111294](https://doi.org/10.1101/111294)."
   ]
  },
  {
   "cell_type": "code",
   "execution_count": 1,
   "metadata": {
    "collapsed": true
   },
   "outputs": [],
   "source": [
    "%load_ext autoreload\n",
    "%autoreload 2\n",
    "\n",
    "import os\n",
    "from pathlib import Path\n",
    "import numpy as np\n",
    "import pandas as pd\n",
    "from mriqc.viz import misc as mviz\n",
    "from matplotlib import pyplot as plt\n",
    "\n",
    "os.environ['MRIQC_DATA_FOLDER'] = str(Path.home() / 'workspace' / 'mriqc' / 'mriqc' / 'data' / 'csv')\n",
    "\n",
    "OUTPUTS_PATH = Path.home() / 'tmp' / 'miccailabels'\n",
    "CSV_HOME = Path(os.getenv('MRIQC_DATA_FOLDER', str(Path())))"
   ]
  },
  {
   "cell_type": "code",
   "execution_count": 2,
   "metadata": {
    "collapsed": true
   },
   "outputs": [],
   "source": [
    "x_path = str(CSV_HOME / 'x_abide.csv')\n",
    "y_path = str(CSV_HOME / 'y_abide.csv')\n",
    "ds030_x_path = str(CSV_HOME / 'x_ds030.csv')\n",
    "ds030_y_path = str(CSV_HOME / 'y_ds030.csv')\n",
    "\n",
    "mdata = pd.read_csv(str(CSV_HOME / 'y_abide.csv'), index_col='subject_id')\n",
    "sites = list(sorted(list(set(mdata.site.values.ravel().tolist()))))"
   ]
  },
  {
   "cell_type": "code",
   "execution_count": 3,
   "metadata": {
    "collapsed": true
   },
   "outputs": [],
   "source": [
    "plt.clf()\n",
    "fig = mviz.raters_variability_plot(\n",
    "    mdata, raters=['rater_1', 'rater_2', 'rater_3'], \n",
    "    rater_names=['Rater 1', 'Rater 2', 'Rater 3'],\n",
    "    out_file=str(OUTPUTS_PATH / 'suppl-fig02.pdf'),\n",
    "    only_overlap=False)"
   ]
  },
  {
   "cell_type": "code",
   "execution_count": 4,
   "metadata": {},
   "outputs": [
    {
     "ename": "NameError",
     "evalue": "name 'op' is not defined",
     "output_type": "error",
     "traceback": [
      "\u001b[0;31m---------------------------------------------------------------------------\u001b[0m",
      "\u001b[0;31mNameError\u001b[0m                                 Traceback (most recent call last)",
      "\u001b[0;32m<ipython-input-4-f10d722b255d>\u001b[0m in \u001b[0;36m<module>\u001b[0;34m()\u001b[0m\n\u001b[1;32m      5\u001b[0m \u001b[0;34m\u001b[0m\u001b[0m\n\u001b[1;32m      6\u001b[0m fig = mviz.inter_rater_variability(y1, y2, raters=['Protocol A', 'Protocol B'],\n\u001b[0;32m----> 7\u001b[0;31m                                    out_file=op.join(outputs_path, 'figures', 'suppl-intrarv.pdf'))\n\u001b[0m\u001b[1;32m      8\u001b[0m \u001b[0;34m\u001b[0m\u001b[0m\n\u001b[1;32m      9\u001b[0m \u001b[0mprint\u001b[0m\u001b[0;34m(\u001b[0m\u001b[0;34m\"Cohen's Kappa %f\"\u001b[0m \u001b[0;34m%\u001b[0m \u001b[0mcohen_kappa_score\u001b[0m\u001b[0;34m(\u001b[0m\u001b[0my1\u001b[0m\u001b[0;34m,\u001b[0m \u001b[0my2\u001b[0m\u001b[0;34m)\u001b[0m\u001b[0;34m)\u001b[0m\u001b[0;34m\u001b[0m\u001b[0m\n",
      "\u001b[0;31mNameError\u001b[0m: name 'op' is not defined"
     ]
    }
   ],
   "source": [
    "from sklearn.metrics import cohen_kappa_score\n",
    "overlap = mdata[np.all(~np.isnan(mdata[['rater_2', 'rater_3']]), axis=1)]\n",
    "y1 = overlap.rater_2.values.ravel().tolist()\n",
    "y2 = overlap.rater_3.values.ravel().tolist()\n",
    "\n",
    "fig = mviz.inter_rater_variability(y1, y2, raters=['Protocol A', 'Protocol B'],\n",
    "                                   out_file=op.join(outputs_path, 'figures', 'suppl-intrarv.pdf'))\n",
    "\n",
    "print(\"Cohen's Kappa %f\" % cohen_kappa_score(y1, y2))\n",
    "\n",
    "y1 = overlap.rater_2.values.ravel()\n",
    "y1[y1 == 0] = 1\n",
    "\n",
    "y2 = overlap.rater_3.values.ravel()\n",
    "y2[y2 == 0] = 1\n",
    "print(\"Cohen's Kappa (binarized): %f\" % cohen_kappa_score(y1, y2))"
   ]
  },
  {
   "cell_type": "code",
   "execution_count": null,
   "metadata": {
    "collapsed": true
   },
   "outputs": [],
   "source": [
    "fig = mviz.plot_corrmat(x_path)"
   ]
  },
  {
   "cell_type": "code",
   "execution_count": null,
   "metadata": {
    "collapsed": true
   },
   "outputs": [],
   "source": [
    "fig = mviz.plot_histograms(x_path, y_path)"
   ]
  }
 ],
 "metadata": {
  "kernelspec": {
   "display_name": "Python 3",
   "language": "python",
   "name": "python3"
  },
  "language_info": {
   "codemirror_mode": {
    "name": "ipython",
    "version": 3
   },
   "file_extension": ".py",
   "mimetype": "text/x-python",
   "name": "python",
   "nbconvert_exporter": "python",
   "pygments_lexer": "ipython3",
   "version": "3.6.4"
  }
 },
 "nbformat": 4,
 "nbformat_minor": 2
}
